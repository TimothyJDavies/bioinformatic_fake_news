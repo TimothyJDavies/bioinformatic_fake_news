{
 "cells": [
  {
   "cell_type": "code",
   "execution_count": 5,
   "metadata": {},
   "outputs": [],
   "source": [
    "# So this code goes through deciding what elements in each of the two databases are \"the same\"\n",
    "\n",
    "# Required modules\n",
    "\n",
    "# Python inbuilt\n",
    "import json\n",
    "import csv\n",
    "import subprocess\n",
    "import os\n",
    "\n",
    "# Extra downloaded\n",
    "from Bio import SeqIO\n",
    "from Bio.Seq import Seq\n",
    "from Bio.SeqRecord import SeqRecord\n"
   ]
  },
  {
   "cell_type": "code",
   "execution_count": 6,
   "metadata": {},
   "outputs": [
    {
     "name": "stdout",
     "output_type": "stream",
     "text": [
      "\u001b[1m\u001b[36mcard_20191023\u001b[m\u001b[m/                      \u001b[1m\u001b[36mresfinder_20190122\u001b[m\u001b[m/\r\n",
      "card_20191023_formatted.fasta       \u001b[1m\u001b[36mresfinder_20191001\u001b[m\u001b[m/\r\n",
      "card_20191023_link.csv              \u001b[1m\u001b[36mresfinder_20191001_ami\u001b[m\u001b[m/\r\n",
      "db_comparison.csv                   \u001b[1m\u001b[36mresfinder_20191001_blm\u001b[m\u001b[m/\r\n",
      "db_comparison_full.json             resfinder_20191001_formatted.fasta\r\n",
      "db_related.ipynb                    resfinder_20191001_link.csv\r\n",
      "formatting_old_resfinder_dbs.ipynb  \u001b[1m\u001b[36mresfinder_20191001_qui\u001b[m\u001b[m/\r\n",
      "resfinder.fasta                     \u001b[1m\u001b[36mresfinder_20191001_sul\u001b[m\u001b[m/\r\n",
      "\u001b[1m\u001b[36mresfinder_20170126\u001b[m\u001b[m/                 \u001b[1m\u001b[36mresfinder_20191001_tri\u001b[m\u001b[m/\r\n",
      "\u001b[1m\u001b[36mresfinder_20180122\u001b[m\u001b[m/\r\n"
     ]
    }
   ],
   "source": [
    "%ls"
   ]
  },
  {
   "cell_type": "code",
   "execution_count": 14,
   "metadata": {},
   "outputs": [],
   "source": [
    "# resfinder_20170126\n",
    "\n",
    "# Resfinder\n",
    "for rf_folder in [\"resfinder_20170126\", \"resfinder_20180122\", \"resfinder_20190122\"]:\n",
    "\n",
    "    rf_date = rf_folder.split(\"_\")[-1]\n",
    "    # So this code does the following\n",
    "    # Firstly, you concatenate and read in the database\n",
    "    # Note because of the way that this seems to work, it will be easier to put this through SeqIO\n",
    "    resfinder_origdbs = [os.path.join(root, f) for root, dirs, files \n",
    "                         in os.walk(\"{0}/resfinder_db\" .format(rf_folder)) for f in files if \n",
    "                        \".fsa\" in f]\n",
    "#    print(resfinder_origdbs)\n",
    "#    subprocess.check_call(\"cat {0}/resfinder_db/*.fsa > {0}/resfinder.fasta\" .format(rf_folder), shell=True)\n",
    "#    resfinder_initdb = SeqIO.parse(\"{0}/resfinder.fasta\".format(rf_folder), \"fasta\" )\n",
    "\n",
    "    # Then you assign a new unique name to each element of the database\n",
    "    # Note some elements are removed (see above) to ensure each DNA sequence only has one name\n",
    "    # The way things are linked are put into a resfinder_20191001_link.csv file\n",
    "    # The final database is then written into a resfinder_20191001_formatted.fasta\n",
    "    resfinder_db = {}\n",
    "    identified_seqs = []\n",
    "    newid = 0\n",
    "    for l in resfinder_origdbs:\n",
    "        resfinder_initdb = SeqIO.parse(l, \"fasta\" )\n",
    "        for k in resfinder_initdb:\n",
    "            if str(k.seq) not in identified_seqs:\n",
    "                newid += 1\n",
    "                identified_seqs.append(str(k.seq))\n",
    "                resfinder_db[\"resfindernewid_{0}\" .format(newid)] = k\n",
    "    out_recs = []\n",
    "    with open(\"{0}/resfinder_{1}_link.csv\" .format(rf_folder, rf_date), \"w\") as f:\n",
    "        writer = csv.writer(f, delimiter = \",\")\n",
    "        for k in resfinder_db:\n",
    "            writer.writerow([k, resfinder_db[k].id, str(resfinder_db[k].seq)])\n",
    "            k_id = k\n",
    "            k_desc = \"\"\n",
    "            k_seq = resfinder_db[k].seq\n",
    "            k_rec = SeqRecord(k_seq, id=k_id, description=k_desc)\n",
    "            out_recs.append(k_rec)\n",
    "\n",
    "    SeqIO.write(out_recs, \"{0}/resfinder_{1}_formatted.fasta\" .format(rf_folder, rf_date), \"fasta\")"
   ]
  },
  {
   "cell_type": "code",
   "execution_count": 4,
   "metadata": {},
   "outputs": [],
   "source": [
    "for abx in [\"blm\", \"ami\", \"qui\", \"tri\", \"sul\"]:\n",
    "    rf_folder = \"resfinder_20191001_{0}\" .format(abx)\n",
    "    resfinder_origdbs = rf_folder + \"/\"+abx+'.fsa'\n",
    "    # So we're here.\n",
    "    resfinder_db = {}\n",
    "    identified_seqs = []\n",
    "    newid = 0\n",
    "    resfinder_initdb = SeqIO.parse(resfinder_origdbs, \"fasta\" )\n",
    "    for k in resfinder_initdb:\n",
    "        if str(k.seq) not in identified_seqs:\n",
    "            newid += 1\n",
    "            identified_seqs.append(str(k.seq))\n",
    "            resfinder_db[\"resfindernewid_{0}\" .format(newid)] = k\n",
    "    out_recs = []\n",
    "    with open(\"{0}/resfinder_{1}_link.csv\" .format(rf_folder, abx), \"w\") as f:\n",
    "        writer = csv.writer(f, delimiter = \",\")\n",
    "        for k in resfinder_db:\n",
    "            writer.writerow([k, resfinder_db[k].id, str(resfinder_db[k].seq)])\n",
    "            k_id = k\n",
    "            k_desc = \"\"\n",
    "            k_seq = resfinder_db[k].seq\n",
    "            k_rec = SeqRecord(k_seq, id=k_id, description=k_desc)\n",
    "            out_recs.append(k_rec)\n",
    "\n",
    "    SeqIO.write(out_recs, \"{0}/{1}_formatted.fasta\" .format(rf_folder, abx), \"fasta\")"
   ]
  },
  {
   "cell_type": "code",
   "execution_count": 7,
   "metadata": {},
   "outputs": [
    {
     "name": "stdout",
     "output_type": "stream",
     "text": [
      "['/Users/timdavies/Dropbox_Temp_Outside/resfinder_20200318/resfinder_db/colistin.fsa', '/Users/timdavies/Dropbox_Temp_Outside/resfinder_20200318/resfinder_db/tetracycline.fsa', '/Users/timdavies/Dropbox_Temp_Outside/resfinder_20200318/resfinder_db/quinolone.fsa', '/Users/timdavies/Dropbox_Temp_Outside/resfinder_20200318/resfinder_db/fusidicacid.fsa', '/Users/timdavies/Dropbox_Temp_Outside/resfinder_20200318/resfinder_db/glycopeptide.fsa', '/Users/timdavies/Dropbox_Temp_Outside/resfinder_20200318/resfinder_db/rifampicin.fsa', '/Users/timdavies/Dropbox_Temp_Outside/resfinder_20200318/resfinder_db/trimethoprim.fsa', '/Users/timdavies/Dropbox_Temp_Outside/resfinder_20200318/resfinder_db/beta-lactam.fsa', '/Users/timdavies/Dropbox_Temp_Outside/resfinder_20200318/resfinder_db/extra.fsa', '/Users/timdavies/Dropbox_Temp_Outside/resfinder_20200318/resfinder_db/aminoglycoside.fsa', '/Users/timdavies/Dropbox_Temp_Outside/resfinder_20200318/resfinder_db/oxazolidinone.fsa', '/Users/timdavies/Dropbox_Temp_Outside/resfinder_20200318/resfinder_db/macrolide.fsa', '/Users/timdavies/Dropbox_Temp_Outside/resfinder_20200318/resfinder_db/phenicol.fsa', '/Users/timdavies/Dropbox_Temp_Outside/resfinder_20200318/resfinder_db/fosfomycin.fsa', '/Users/timdavies/Dropbox_Temp_Outside/resfinder_20200318/resfinder_db/sulphonamide.fsa', '/Users/timdavies/Dropbox_Temp_Outside/resfinder_20200318/resfinder_db/nitroimidazole.fsa']\n"
     ]
    },
    {
     "data": {
      "text/plain": [
       "3091"
      ]
     },
     "execution_count": 7,
     "metadata": {},
     "output_type": "execute_result"
    }
   ],
   "source": [
    "# Doing just the most recent for Karina\n",
    "rf_folder = \"/Users/timdavies/Dropbox_Temp_Outside/resfinder_20200318\"\n",
    "rf_date = rf_folder.split(\"_\")[-1]\n",
    "# So this code does the following\n",
    "# Firstly, you concatenate and read in the database\n",
    "# Note because of the way that this seems to work, it will be easier to put this through SeqIO\n",
    "resfinder_origdbs = [os.path.join(root, f) for root, dirs, files \n",
    "                     in os.walk(\"{0}/resfinder_db\" .format(rf_folder)) for f in files if \n",
    "                    \".fsa\" in f]\n",
    "print(resfinder_origdbs)\n",
    "subprocess.check_call(\"cat {0}/resfinder_db/*.fsa > {0}/resfinder.fasta\" .format(rf_folder), shell=True)\n",
    "resfinder_initdb = SeqIO.parse(\"{0}/resfinder.fasta\".format(rf_folder), \"fasta\" )\n",
    "\n",
    "# Then you assign a new unique name to each element of the database\n",
    "# Note some elements are removed (see above) to ensure each DNA sequence only has one name\n",
    "# The way things are linked are put into a resfinder_20191001_link.csv file\n",
    "# The final database is then written into a resfinder_20191001_formatted.fasta\n",
    "resfinder_db = {}\n",
    "identified_seqs = []\n",
    "newid = 0\n",
    "for l in resfinder_origdbs:\n",
    "    resfinder_initdb = SeqIO.parse(l, \"fasta\" )\n",
    "    for k in resfinder_initdb:\n",
    "        if str(k.seq) not in identified_seqs:\n",
    "            newid += 1\n",
    "            identified_seqs.append(str(k.seq))\n",
    "            resfinder_db[\"resfindernewid_{0}\" .format(newid)] = k\n",
    "out_recs = []\n",
    "with open(\"{0}/resfinder_{1}_link.csv\" .format(rf_folder, rf_date), \"w\") as f:\n",
    "    writer = csv.writer(f, delimiter = \",\")\n",
    "    for k in resfinder_db:\n",
    "        writer.writerow([k, resfinder_db[k].id, str(resfinder_db[k].seq)])\n",
    "        k_id = k\n",
    "        k_desc = \"\"\n",
    "        k_seq = resfinder_db[k].seq\n",
    "        k_rec = SeqRecord(k_seq, id=k_id, description=k_desc)\n",
    "        out_recs.append(k_rec)\n",
    "\n",
    "SeqIO.write(out_recs, \"{0}/resfinder_{1}_formatted.fasta\" .format(rf_folder, rf_date), \"fasta\")"
   ]
  },
  {
   "cell_type": "code",
   "execution_count": null,
   "metadata": {},
   "outputs": [],
   "source": []
  }
 ],
 "metadata": {
  "kernelspec": {
   "display_name": "Python 3",
   "language": "python",
   "name": "python3"
  },
  "language_info": {
   "codemirror_mode": {
    "name": "ipython",
    "version": 3
   },
   "file_extension": ".py",
   "mimetype": "text/x-python",
   "name": "python",
   "nbconvert_exporter": "python",
   "pygments_lexer": "ipython3",
   "version": "3.6.5"
  }
 },
 "nbformat": 4,
 "nbformat_minor": 2
}
